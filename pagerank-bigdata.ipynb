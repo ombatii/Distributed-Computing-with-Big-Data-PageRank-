{
 "cells": [
  {
   "cell_type": "markdown",
   "id": "138e756b",
   "metadata": {},
   "source": [
    "#  Distributed Computing with Big Data "
   ]
  },
  {
   "cell_type": "code",
   "execution_count": 36,
   "id": "64cf0f06",
   "metadata": {},
   "outputs": [
    {
     "name": "stdout",
     "output_type": "stream",
     "text": [
      "Requirement already satisfied: pyspark in /opt/conda/lib/python3.10/site-packages (3.4.1)\n",
      "Requirement already satisfied: py4j==0.10.9.7 in /opt/conda/lib/python3.10/site-packages (from pyspark) (0.10.9.7)\n"
     ]
    }
   ],
   "source": [
    "!pip install pyspark\n"
   ]
  },
  {
   "cell_type": "code",
   "execution_count": 34,
   "id": "88ea2916",
   "metadata": {},
   "outputs": [],
   "source": [
    "from pyspark.sql import SparkSession"
   ]
  },
  {
   "cell_type": "code",
   "execution_count": 35,
   "id": "beb6be02",
   "metadata": {
    "execution": {
     "iopub.execute_input": "2023-09-08T22:00:42.825748Z",
     "iopub.status.busy": "2023-09-08T22:00:42.825351Z",
     "iopub.status.idle": "2023-09-08T22:00:43.988879Z",
     "shell.execute_reply": "2023-09-08T22:00:43.988014Z",
     "shell.execute_reply.started": "2023-09-08T22:00:42.825721Z"
    }
   },
   "outputs": [],
   "source": [
    "#Initialize a SparkContext to use PySpark.\n",
    "# Create a Spark session\n",
    "spark = SparkSession.builder.appName(\"PageRank\").getOrCreate()"
   ]
  },
  {
   "cell_type": "code",
   "execution_count": 8,
   "id": "9c7861a0",
   "metadata": {
    "execution": {
     "iopub.execute_input": "2023-09-08T20:48:04.066881Z",
     "iopub.status.busy": "2023-09-08T20:48:04.066483Z",
     "iopub.status.idle": "2023-09-08T20:48:04.082501Z",
     "shell.execute_reply": "2023-09-08T20:48:04.080977Z",
     "shell.execute_reply.started": "2023-09-08T20:48:04.066849Z"
    }
   },
   "outputs": [],
   "source": [
    "#Loading the data \n",
    "# Input data as an RDD of (source_URL, neighbor_URL) pairs\n",
    "links = spark.sparkContext.parallelize([\n",
    "    (\"n1\", \"n2\"), (\"n2\", \"n3\"), (\"n3\", \"n4\"), (\"n4\", \"n5\"), (\"n5\", \"n1\"),\n",
    "    (\"n1\", \"n4\"), (\"n1\", \"n5\"), (\"n2\", \"n1\"), (\"n2\", \"n5\"), (\"n3\", \"n1\")\n",
    "])"
   ]
  },
  {
   "cell_type": "code",
   "execution_count": 9,
   "id": "a01fb2b1",
   "metadata": {
    "execution": {
     "iopub.execute_input": "2023-09-08T20:48:09.293265Z",
     "iopub.status.busy": "2023-09-08T20:48:09.292884Z",
     "iopub.status.idle": "2023-09-08T20:48:09.301057Z",
     "shell.execute_reply": "2023-09-08T20:48:09.300288Z",
     "shell.execute_reply.started": "2023-09-08T20:48:09.293222Z"
    }
   },
   "outputs": [],
   "source": [
    "# Initialize the ranks of all URLs to 1.0\n",
    "ranks = links.map(lambda url_neighbors: (url_neighbors[0], 1.0))"
   ]
  },
  {
   "cell_type": "code",
   "execution_count": 39,
   "id": "81b4db4b",
   "metadata": {
    "execution": {
     "iopub.execute_input": "2023-09-08T22:31:14.050339Z",
     "iopub.status.busy": "2023-09-08T22:31:14.049926Z",
     "iopub.status.idle": "2023-09-08T22:31:14.057289Z",
     "shell.execute_reply": "2023-09-08T22:31:14.056128Z",
     "shell.execute_reply.started": "2023-09-08T22:31:14.050308Z"
    }
   },
   "outputs": [],
   "source": [
    "#PageRank Computation\n",
    "#Implement PageRank Algorithm\n",
    "def pagerank(nodes, num_iterations):\n",
    "  node_page_ranks = nodes.mapValues(lambda x: 1.0)\n",
    "\n",
    "  for i in range(num_iterations):\n",
    "    contributions = nodes.join(node_page_ranks) \\\n",
    "      .flatMap(lambda x: [(neighbor, x[1][1] / len(x[1][0])) for neighbor in x[1][0]])\n",
    "\n",
    "    node_page_ranks = contributions.reduceByKey(lambda x, y: x + y)\n",
    "\n",
    "  return node_page_ranks"
   ]
  },
  {
   "cell_type": "code",
   "execution_count": 45,
   "id": "a9ce6ac7",
   "metadata": {
    "execution": {
     "iopub.execute_input": "2023-09-08T22:37:47.383883Z",
     "iopub.status.busy": "2023-09-08T22:37:47.383466Z",
     "iopub.status.idle": "2023-09-08T22:37:47.390922Z",
     "shell.execute_reply": "2023-09-08T22:37:47.389796Z",
     "shell.execute_reply.started": "2023-09-08T22:37:47.383850Z"
    }
   },
   "outputs": [],
   "source": [
    "#Handling Dangling Nodes\n",
    "def create_contributions(nodes):\n",
    "  contributions = nodes.join(nodes) \\\n",
    "                      .flatMap(lambda x: [(neighbor, x[1][1] / len(x[1][0])) for neighbor in x[1][0]])\n",
    "\n",
    "  return contributions\n",
    "\n",
    "def pagerank(nodes, num_iterations):\n",
    "  for i in range(num_iterations):\n",
    "    contributions = create_contributions(nodes)\n",
    "\n",
    "    node_page_ranks = contributions.reduceByKey(lambda x, y: x + y)\n",
    "\n",
    "  return node_page_ranks"
   ]
  },
  {
   "cell_type": "code",
   "execution_count": 40,
   "id": "4f8cf21b",
   "metadata": {
    "execution": {
     "iopub.execute_input": "2023-09-08T22:31:46.650637Z",
     "iopub.status.busy": "2023-09-08T22:31:46.650161Z",
     "iopub.status.idle": "2023-09-08T22:31:46.655861Z",
     "shell.execute_reply": "2023-09-08T22:31:46.654980Z",
     "shell.execute_reply.started": "2023-09-08T22:31:46.650601Z"
    }
   },
   "outputs": [],
   "source": [
    "# Define the PageRank functions\n",
    "def compute_contributions(url_neighbors, rank):\n",
    "    num_neighbors = len(url_neighbors[1])\n",
    "    for neighbor in url_neighbors[1]:\n",
    "        yield (neighbor, rank / num_neighbors)"
   ]
  },
  {
   "cell_type": "code",
   "execution_count": 41,
   "id": "735f909b",
   "metadata": {
    "execution": {
     "iopub.execute_input": "2023-09-08T22:31:49.697811Z",
     "iopub.status.busy": "2023-09-08T22:31:49.697226Z",
     "iopub.status.idle": "2023-09-08T22:31:49.703812Z",
     "shell.execute_reply": "2023-09-08T22:31:49.702244Z",
     "shell.execute_reply.started": "2023-09-08T22:31:49.697776Z"
    }
   },
   "outputs": [],
   "source": [
    "def recalculate_rank(contributions):\n",
    "    return damping_factor + (1.0 - damping_factor) * contributions"
   ]
  },
  {
   "cell_type": "code",
   "execution_count": 42,
   "id": "12dd342a",
   "metadata": {
    "execution": {
     "iopub.execute_input": "2023-09-08T22:31:52.210338Z",
     "iopub.status.busy": "2023-09-08T22:31:52.209928Z",
     "iopub.status.idle": "2023-09-08T22:31:52.214611Z",
     "shell.execute_reply": "2023-09-08T22:31:52.213682Z",
     "shell.execute_reply.started": "2023-09-08T22:31:52.210305Z"
    }
   },
   "outputs": [],
   "source": [
    "# Define the damping factor and the number of iterations\n",
    "damping_factor = 0.85\n",
    "num_iterations = 10"
   ]
  },
  {
   "cell_type": "code",
   "execution_count": 47,
   "id": "ed913538",
   "metadata": {
    "execution": {
     "iopub.execute_input": "2023-09-08T22:47:11.626364Z",
     "iopub.status.busy": "2023-09-08T22:47:11.625947Z",
     "iopub.status.idle": "2023-09-08T22:47:13.829850Z",
     "shell.execute_reply": "2023-09-08T22:47:13.828751Z",
     "shell.execute_reply.started": "2023-09-08T22:47:11.626332Z"
    }
   },
   "outputs": [
    {
     "name": "stdout",
     "output_type": "stream",
     "text": [
      "PythonRDD[2] at RDD at PythonRDD.scala:53\n"
     ]
    },
    {
     "name": "stderr",
     "output_type": "stream",
     "text": [
      "[Stage 0:>                                                          (0 + 4) / 4]\r"
     ]
    },
    {
     "name": "stdout",
     "output_type": "stream",
     "text": [
      "n1: 1.0\n",
      "n2: 1.0\n",
      "n3: 1.0\n",
      "n4: 1.0\n",
      "n5: 1.0\n",
      "n1: 1.0\n",
      "n1: 1.0\n",
      "n2: 1.0\n",
      "n2: 1.0\n",
      "n3: 1.0\n"
     ]
    },
    {
     "name": "stderr",
     "output_type": "stream",
     "text": [
      "                                                                                \r"
     ]
    }
   ],
   "source": [
    "print(ranks)\n",
    "# Assuming you have computed PageRank and assigned it to 'ranks'\n",
    "node_page_ranks = ranks\n",
    "\n",
    "# Collect and print final PageRank values\n",
    "final_page_ranks = node_page_ranks.collect()\n",
    "for node, rank in final_page_ranks:\n",
    "    print(f\"{node}: {rank}\")\n"
   ]
  }
 ],
 "metadata": {
  "kernelspec": {
   "display_name": "Python 3 (ipykernel)",
   "language": "python",
   "name": "python3"
  },
  "language_info": {
   "codemirror_mode": {
    "name": "ipython",
    "version": 3
   },
   "file_extension": ".py",
   "mimetype": "text/x-python",
   "name": "python",
   "nbconvert_exporter": "python",
   "pygments_lexer": "ipython3",
   "version": "3.9.12"
  }
 },
 "nbformat": 4,
 "nbformat_minor": 5
}
